{
  "cells": [
    {
      "cell_type": "markdown",
      "metadata": {
        "id": "view-in-github",
        "colab_type": "text"
      },
      "source": [
        "<a href=\"https://colab.research.google.com/github/Ayordeji/Ayordeji/blob/main/STFT_with_Lazy_Predict.ipynb\" target=\"_parent\"><img src=\"https://colab.research.google.com/assets/colab-badge.svg\" alt=\"Open In Colab\"/></a>"
      ]
    },
    {
      "cell_type": "code",
      "execution_count": 1,
      "metadata": {
        "colab": {
          "base_uri": "https://localhost:8080/"
        },
        "id": "vpW20075y0Bt",
        "outputId": "30e0c7e3-888d-4bc9-d4c1-64093d9ed3e0"
      },
      "outputs": [
        {
          "output_type": "stream",
          "name": "stdout",
          "text": [
            "Looking in indexes: https://pypi.org/simple, https://us-python.pkg.dev/colab-wheels/public/simple/\n",
            "Collecting pyxdf\n",
            "  Downloading pyxdf-1.16.3-py2.py3-none-any.whl (15 kB)\n",
            "Requirement already satisfied: numpy in /usr/local/lib/python3.8/dist-packages (from pyxdf) (1.21.6)\n",
            "Installing collected packages: pyxdf\n",
            "Successfully installed pyxdf-1.16.3\n"
          ]
        }
      ],
      "source": [
        "pip install pyxdf"
      ]
    },
    {
      "cell_type": "code",
      "execution_count": 2,
      "metadata": {
        "id": "PbVbUoLEy538"
      },
      "outputs": [],
      "source": [
        "import matplotlib.pyplot as plt"
      ]
    },
    {
      "cell_type": "code",
      "execution_count": 3,
      "metadata": {
        "id": "Qj5bV-3Zy9Iw"
      },
      "outputs": [],
      "source": [
        "import pyxdf\n",
        "import numpy as np"
      ]
    },
    {
      "cell_type": "code",
      "execution_count": 4,
      "metadata": {
        "colab": {
          "base_uri": "https://localhost:8080/"
        },
        "id": "3amCMAQw0-_x",
        "outputId": "801bb706-1558-498f-9236-978fcdd601cc"
      },
      "outputs": [
        {
          "output_type": "stream",
          "name": "stdout",
          "text": [
            "Looking in indexes: https://pypi.org/simple, https://us-python.pkg.dev/colab-wheels/public/simple/\n",
            "Requirement already satisfied: pywavelets in /usr/local/lib/python3.8/dist-packages (1.3.0)\n",
            "Requirement already satisfied: numpy>=1.17.3 in /usr/local/lib/python3.8/dist-packages (from pywavelets) (1.21.6)\n"
          ]
        }
      ],
      "source": [
        "pip install pywavelets"
      ]
    },
    {
      "cell_type": "code",
      "execution_count": null,
      "metadata": {
        "id": "LZ4yeEOhzKVO"
      },
      "outputs": [],
      "source": [
        "fname1 = '/A1.xdf'\n",
        "streams1, header = pyxdf.load_xdf(fname1)\n",
        "print(streams1, header)\n",
        "\n",
        "fname2 = '/A2.xdf'\n",
        "streams2, header = pyxdf.load_xdf(fname2)\n",
        "print(streams2, header)\n",
        "\n",
        "\n",
        "fname3 = '/A3.xdf'\n",
        "streams3, header = pyxdf.load_xdf(fname3)\n",
        "print(streams3, header)\n",
        "\n",
        "\n",
        "fname4 = '/A4.xdf'\n",
        "streams4, header = pyxdf.load_xdf(fname4)\n",
        "print(streams4, header)\n",
        "\n",
        "fname5 = '/A5.xdf'\n",
        "streams5, header = pyxdf.load_xdf(fname5)\n",
        "print(streams5, header)\n",
        "\n",
        "\n",
        "fname6 = '/A6.xdf'\n",
        "streams6, header = pyxdf.load_xdf(fname6)\n",
        "print(streams6, header)\n",
        "\n",
        "fname7 = '/A7.xdf'\n",
        "streams7, header = pyxdf.load_xdf(fname7)\n",
        "print(streams7, header)\n",
        "\n",
        "\n",
        "fname8 = '/A8.xdf'\n",
        "streams8, header = pyxdf.load_xdf(fname8)\n",
        "print(streams8, header)\n",
        "\n",
        "fname9 = '/A9.xdf'\n",
        "streams9, header = pyxdf.load_xdf(fname9)\n",
        "print(streams9, header)\n",
        "\n",
        "\n",
        "fname10 = '/A10.xdf'\n",
        "streams10, header = pyxdf.load_xdf(fname10)\n",
        "print(streams10, header)\n",
        "\n",
        "fname11 = '/A11.xdf'\n",
        "streams11, header = pyxdf.load_xdf(fname11)\n",
        "print(streams11, header)\n",
        "\n",
        "\n",
        "fname12 = '/A12.xdf'\n",
        "streams12, header = pyxdf.load_xdf(fname12)\n",
        "print(streams12, header)"
      ]
    },
    {
      "cell_type": "code",
      "execution_count": 7,
      "metadata": {
        "id": "MNi2mUpF1Jzr"
      },
      "outputs": [],
      "source": [
        "def xdf_extract(i,eventWindow,channel_length,eeg_channel,stim_channel):\n",
        "    dataset_arr=np.empty((0,eventWindow,channel_length))\n",
        "    start_time=float(i[eeg_channel]['footer']['info']['first_timestamp'][0])\n",
        "    end_time=float(i[eeg_channel]['footer']['info']['last_timestamp'][0])\n",
        "    no_samples=float(i[eeg_channel]['footer']['info']['sample_count'][0])\n",
        "    Fs=i[eeg_channel]['info']['effective_srate']\n",
        "    try:\n",
        "        Ts=1/Fs\n",
        "    except ZeroDivisionError:\n",
        "        print('ZeroDivisionError')\n",
        "        return\n",
        "    time_stamps=(i[eeg_channel]['time_stamps']-start_time)/(end_time-start_time)*no_samples*Ts\n",
        "    time_index=(i[eeg_channel]['time_stamps']-start_time)/(end_time-start_time)*no_samples\n",
        "    first_marker_time=(float(i[stim_channel]['footer']['info']['first_timestamp'][0])-start_time)/(end_time-start_time)*no_samples*Ts\n",
        "    last_marker_time=(float(i[stim_channel]['footer']['info']['last_timestamp'][0])-start_time)/(end_time-start_time)*no_samples*Ts\n",
        "    markers=list()\n",
        "    for j in i[stim_channel]['time_series']:\n",
        "        markers.append(j[0])\n",
        "    markers_time=list((i[stim_channel]['time_stamps']-start_time)/(end_time-start_time)*no_samples*Ts)\n",
        "    markers_index=list((i[stim_channel]['time_stamps']-start_time)/(end_time-start_time)*no_samples)\n",
        "\n",
        "    for e in range(1,len(markers)-1):\n",
        "        try:\n",
        "            data=(i[eeg_channel]['time_series'][(np.where(time_stamps>=markers_time[e])),:])[:,0:eventWindow,:]#[0:3,:]#[:,0:eventWindow,:].reshape(eventWindow,8).reshape(1,eventWindow,8)\n",
        "            # print(data.shape)\n",
        "            dataset_arr=np.vstack((dataset_arr,data))\n",
        "        except ValueError as v:\n",
        "            print(data.shape,'ValueError',v)\n",
        "            return\n",
        "    return dataset_arr,markers[1:-1]"
      ]
    },
    {
      "cell_type": "code",
      "execution_count": null,
      "metadata": {
        "id": "uDk-N3Y41co5"
      },
      "outputs": [],
      "source": [
        "extracted_xdf_dataset1 = xdf_extract(streams1, 1250, 8, 0, 1)\n",
        "extracted_xdf_dataset2 = xdf_extract(streams2, 1250, 8, 0, 1)\n",
        "extracted_xdf_dataset3 = xdf_extract(streams3, 1250, 8, 0, 1)\n",
        "extracted_xdf_dataset4 = xdf_extract(streams4, 1250, 8, 0, 1)\n",
        "extracted_xdf_dataset5 = xdf_extract(streams5, 1250, 8, 0, 1)\n",
        "extracted_xdf_dataset6 = xdf_extract(streams6, 1250, 8, 0, 1)\n",
        "extracted_xdf_dataset7 = xdf_extract(streams7, 1250, 8, 0, 1)\n",
        "extracted_xdf_dataset8 = xdf_extract(streams8, 1250, 8, 0, 1)\n",
        "extracted_xdf_dataset9 = xdf_extract(streams9, 1250, 8, 0, 1)\n",
        "extracted_xdf_dataset10 = xdf_extract(streams10, 1250, 8, 0, 1)\n",
        "extracted_xdf_dataset11 = xdf_extract(streams11, 1250, 8, 0, 1)\n",
        "extracted_xdf_dataset12 = xdf_extract(streams12, 1250, 8, 0, 1)\n",
        "print(extracted_xdf_dataset1, extracted_xdf_dataset2, extracted_xdf_dataset3, extracted_xdf_dataset4, extracted_xdf_dataset5, extracted_xdf_dataset6, extracted_xdf_dataset7, extracted_xdf_dataset8, extracted_xdf_dataset9, extracted_xdf_dataset10, extracted_xdf_dataset11, extracted_xdf_dataset12,)\n",
        "\n"
      ]
    },
    {
      "cell_type": "code",
      "execution_count": null,
      "metadata": {
        "id": "UzUgBaOq1kbT"
      },
      "outputs": [],
      "source": [
        "extracted_xdf_dataset2[0].shape, extracted_xdf_dataset12[0].shape"
      ]
    },
    {
      "cell_type": "code",
      "execution_count": 30,
      "metadata": {
        "id": "Xe5BxRR84B8A"
      },
      "outputs": [],
      "source": [
        "# dataset1 = extracted_xdf_dataset1[0]\n",
        "dataset2 = extracted_xdf_dataset2[0]\n",
        "dataset3 = extracted_xdf_dataset3[0]\n",
        "dataset4 = extracted_xdf_dataset4[0]\n",
        "dataset5 = extracted_xdf_dataset5[0]\n",
        "dataset6 = extracted_xdf_dataset6[0]\n",
        "dataset7 = extracted_xdf_dataset7[0]\n",
        "dataset8 = extracted_xdf_dataset8[0]\n",
        "dataset9 = extracted_xdf_dataset9[0]\n",
        "dataset10 = extracted_xdf_dataset10[0]\n",
        "dataset11 = extracted_xdf_dataset11[0]\n",
        "dataset12 = extracted_xdf_dataset12[0]\n",
        "\n",
        "# markers1 = extracted_xdf_dataset1[1]\n",
        "markers2 = extracted_xdf_dataset2[1]\n",
        "markers3 = extracted_xdf_dataset3[1]\n",
        "markers4 = extracted_xdf_dataset4[1]\n",
        "markers5 = extracted_xdf_dataset5[1]\n",
        "markers6 = extracted_xdf_dataset6[1]\n",
        "markers7 = extracted_xdf_dataset7[1]\n",
        "markers8 = extracted_xdf_dataset8[1]\n",
        "markers9 = extracted_xdf_dataset9[1]\n",
        "markers10 = extracted_xdf_dataset10[1]\n",
        "markers11 = extracted_xdf_dataset11[1]\n",
        "markers12 = extracted_xdf_dataset12[1]\n"
      ]
    },
    {
      "cell_type": "code",
      "execution_count": 31,
      "metadata": {
        "id": "RsOqwK3i4MIw"
      },
      "outputs": [],
      "source": [
        "# data1 = np.asarray(dataset1, dtype=object)\n",
        "data2 = np.asarray(dataset2, dtype=object)\n",
        "data3 = np.asarray(dataset3, dtype=object)\n",
        "data4 = np.asarray(dataset4, dtype=object)\n",
        "data5 = np.asarray(dataset5, dtype=object)\n",
        "data6 = np.asarray(dataset6, dtype=object)\n",
        "data7 = np.asarray(dataset7, dtype=object)\n",
        "data8 = np.asarray(dataset8, dtype=object)\n",
        "data9 = np.asarray(dataset9, dtype=object)\n",
        "data10 = np.asarray(dataset10, dtype=object)\n",
        "data11 = np.asarray(dataset11, dtype=object)\n",
        "data12 = np.asarray(dataset12, dtype=object)\n",
        "x_data = np.concatenate(( data2, data3, data4, data5, data6, data7, data8, data9, data10, data11, data12), axis=0)\n"
      ]
    },
    {
      "cell_type": "code",
      "source": [
        "# m1 = np.asarray(markers1, dtype=object)\n",
        "m2 = np.asarray(markers2, dtype=object)\n",
        "m3 = np.asarray(markers3, dtype=object)\n",
        "m4 = np.asarray(markers4, dtype=object)\n",
        "m4 = np.asarray(markers4, dtype=object)\n",
        "m5 = np.asarray(markers5, dtype=object)\n",
        "m6 = np.asarray(markers6, dtype=object)\n",
        "m7 = np.asarray(markers7, dtype=object)\n",
        "m8 = np.asarray(markers8, dtype=object)\n",
        "m9 = np.asarray(markers9, dtype=object)\n",
        "m10 = np.asarray(markers10, dtype=object)\n",
        "m11 = np.asarray(markers11, dtype=object)\n",
        "m12 = np.asarray(markers12, dtype=object)\n",
        "y_data = np.concatenate(( m2, m3, m4, m5, m6, m7, m8, m9, m10, m11, m12), axis=0)\n"
      ],
      "metadata": {
        "id": "J-FgqMwHA6pJ"
      },
      "execution_count": 33,
      "outputs": []
    },
    {
      "cell_type": "code",
      "source": [
        "print(x_data)"
      ],
      "metadata": {
        "id": "uDPM_dhH73h5"
      },
      "execution_count": null,
      "outputs": []
    },
    {
      "cell_type": "code",
      "source": [
        "print(y_data)"
      ],
      "metadata": {
        "colab": {
          "base_uri": "https://localhost:8080/"
        },
        "id": "5cRItySEAtoP",
        "outputId": "201bd5ba-d05a-453a-bbf3-60bef934e57d"
      },
      "execution_count": 35,
      "outputs": [
        {
          "output_type": "stream",
          "name": "stdout",
          "text": [
            "['perfect_rest' 'perfect_rest' 'perfect_rest' ... 'LA_exec' 'awake_rest'\n",
            " 'RA_img']\n"
          ]
        }
      ]
    },
    {
      "cell_type": "code",
      "source": [
        "print(s_data.shape)"
      ],
      "metadata": {
        "colab": {
          "base_uri": "https://localhost:8080/"
        },
        "id": "beb3gtGI02BK",
        "outputId": "d60ff948-5a20-42e4-9e6a-6e5e7b54ca0f"
      },
      "execution_count": 36,
      "outputs": [
        {
          "output_type": "stream",
          "name": "stdout",
          "text": [
            "(3945, 1250, 8)\n"
          ]
        }
      ]
    },
    {
      "cell_type": "code",
      "source": [
        "print(y_data.shape)"
      ],
      "metadata": {
        "colab": {
          "base_uri": "https://localhost:8080/"
        },
        "id": "ndWkT6gPAyIf",
        "outputId": "e57d27b2-b990-4c29-ff59-e113fa23185f"
      },
      "execution_count": 37,
      "outputs": [
        {
          "output_type": "stream",
          "name": "stdout",
          "text": [
            "(3945,)\n"
          ]
        }
      ]
    },
    {
      "cell_type": "markdown",
      "source": [
        "**Lazy predict**"
      ],
      "metadata": {
        "id": "C6Tu1I60SngF"
      }
    },
    {
      "cell_type": "code",
      "source": [
        "pip install lazypredict"
      ],
      "metadata": {
        "id": "d88HHWENSezF"
      },
      "execution_count": null,
      "outputs": []
    },
    {
      "cell_type": "code",
      "source": [
        "import lazypredict"
      ],
      "metadata": {
        "id": "NdZVSRC5Sl-r"
      },
      "execution_count": 15,
      "outputs": []
    },
    {
      "cell_type": "code",
      "source": [
        "from lazypredict.Supervised import LazyClassifier\n",
        "from sklearn.model_selection import train_test_split\n",
        "\n",
        "X = x_data\n",
        "y= y_data\n",
        "\n",
        "X_train, X_test, y_train, y_test = train_test_split(X, y,test_size=.5,random_state =123)\n",
        "\n",
        "X_train= X_train.reshape(-1, 1)\n",
        "y_train= y_train.reshape(-1, 1)\n",
        "y_test = y_test.reshape(-1, 1)\n",
        "y_train = y_train.reshape(-1, 1)\n",
        "\n",
        "clf = LazyClassifier(verbose=0,ignore_warnings=True, custom_metric=None)\n",
        "models,predictions = clf.fit(X_train, X_test, y_train, y_test)\n",
        "models"
      ],
      "metadata": {
        "colab": {
          "base_uri": "https://localhost:8080/",
          "height": 380
        },
        "id": "TfrDTNthS0kR",
        "outputId": "1ed3f55a-7bcb-43c8-9bd6-92c094e614ca"
      },
      "execution_count": 60,
      "outputs": [
        {
          "output_type": "error",
          "ename": "ValueError",
          "evalue": "ignored",
          "traceback": [
            "\u001b[0;31m---------------------------------------------------------------------------\u001b[0m",
            "\u001b[0;31mValueError\u001b[0m                                Traceback (most recent call last)",
            "\u001b[0;32m<ipython-input-60-d87c6e7bb4ae>\u001b[0m in \u001b[0;36m<module>\u001b[0;34m\u001b[0m\n\u001b[1;32m     13\u001b[0m \u001b[0;34m\u001b[0m\u001b[0m\n\u001b[1;32m     14\u001b[0m \u001b[0mclf\u001b[0m \u001b[0;34m=\u001b[0m \u001b[0mLazyClassifier\u001b[0m\u001b[0;34m(\u001b[0m\u001b[0mverbose\u001b[0m\u001b[0;34m=\u001b[0m\u001b[0;36m0\u001b[0m\u001b[0;34m,\u001b[0m\u001b[0mignore_warnings\u001b[0m\u001b[0;34m=\u001b[0m\u001b[0;32mTrue\u001b[0m\u001b[0;34m,\u001b[0m \u001b[0mcustom_metric\u001b[0m\u001b[0;34m=\u001b[0m\u001b[0;32mNone\u001b[0m\u001b[0;34m)\u001b[0m\u001b[0;34m\u001b[0m\u001b[0;34m\u001b[0m\u001b[0m\n\u001b[0;32m---> 15\u001b[0;31m \u001b[0mmodels\u001b[0m\u001b[0;34m,\u001b[0m\u001b[0mpredictions\u001b[0m \u001b[0;34m=\u001b[0m \u001b[0mclf\u001b[0m\u001b[0;34m.\u001b[0m\u001b[0mfit\u001b[0m\u001b[0;34m(\u001b[0m\u001b[0mX_train\u001b[0m\u001b[0;34m,\u001b[0m \u001b[0mX_test\u001b[0m\u001b[0;34m,\u001b[0m \u001b[0my_train\u001b[0m\u001b[0;34m,\u001b[0m \u001b[0my_test\u001b[0m\u001b[0;34m)\u001b[0m\u001b[0;34m\u001b[0m\u001b[0;34m\u001b[0m\u001b[0m\n\u001b[0m\u001b[1;32m     16\u001b[0m \u001b[0mmodels\u001b[0m\u001b[0;34m\u001b[0m\u001b[0;34m\u001b[0m\u001b[0m\n",
            "\u001b[0;32m/usr/local/lib/python3.8/dist-packages/lazypredict/Supervised.py\u001b[0m in \u001b[0;36mfit\u001b[0;34m(self, X_train, X_test, y_train, y_test)\u001b[0m\n\u001b[1;32m    256\u001b[0m         \u001b[0;32mif\u001b[0m \u001b[0misinstance\u001b[0m\u001b[0;34m(\u001b[0m\u001b[0mX_train\u001b[0m\u001b[0;34m,\u001b[0m \u001b[0mnp\u001b[0m\u001b[0;34m.\u001b[0m\u001b[0mndarray\u001b[0m\u001b[0;34m)\u001b[0m\u001b[0;34m:\u001b[0m\u001b[0;34m\u001b[0m\u001b[0;34m\u001b[0m\u001b[0m\n\u001b[1;32m    257\u001b[0m             \u001b[0mX_train\u001b[0m \u001b[0;34m=\u001b[0m \u001b[0mpd\u001b[0m\u001b[0;34m.\u001b[0m\u001b[0mDataFrame\u001b[0m\u001b[0;34m(\u001b[0m\u001b[0mX_train\u001b[0m\u001b[0;34m)\u001b[0m\u001b[0;34m\u001b[0m\u001b[0;34m\u001b[0m\u001b[0m\n\u001b[0;32m--> 258\u001b[0;31m             \u001b[0mX_test\u001b[0m \u001b[0;34m=\u001b[0m \u001b[0mpd\u001b[0m\u001b[0;34m.\u001b[0m\u001b[0mDataFrame\u001b[0m\u001b[0;34m(\u001b[0m\u001b[0mX_test\u001b[0m\u001b[0;34m)\u001b[0m\u001b[0;34m\u001b[0m\u001b[0;34m\u001b[0m\u001b[0m\n\u001b[0m\u001b[1;32m    259\u001b[0m \u001b[0;34m\u001b[0m\u001b[0m\n\u001b[1;32m    260\u001b[0m         \u001b[0mnumeric_features\u001b[0m \u001b[0;34m=\u001b[0m \u001b[0mX_train\u001b[0m\u001b[0;34m.\u001b[0m\u001b[0mselect_dtypes\u001b[0m\u001b[0;34m(\u001b[0m\u001b[0minclude\u001b[0m\u001b[0;34m=\u001b[0m\u001b[0;34m[\u001b[0m\u001b[0mnp\u001b[0m\u001b[0;34m.\u001b[0m\u001b[0mnumber\u001b[0m\u001b[0;34m]\u001b[0m\u001b[0;34m)\u001b[0m\u001b[0;34m.\u001b[0m\u001b[0mcolumns\u001b[0m\u001b[0;34m\u001b[0m\u001b[0;34m\u001b[0m\u001b[0m\n",
            "\u001b[0;32m/usr/local/lib/python3.8/dist-packages/pandas/core/frame.py\u001b[0m in \u001b[0;36m__init__\u001b[0;34m(self, data, index, columns, dtype, copy)\u001b[0m\n\u001b[1;32m    670\u001b[0m                 )\n\u001b[1;32m    671\u001b[0m             \u001b[0;32melse\u001b[0m\u001b[0;34m:\u001b[0m\u001b[0;34m\u001b[0m\u001b[0;34m\u001b[0m\u001b[0m\n\u001b[0;32m--> 672\u001b[0;31m                 mgr = ndarray_to_mgr(\n\u001b[0m\u001b[1;32m    673\u001b[0m                     \u001b[0mdata\u001b[0m\u001b[0;34m,\u001b[0m\u001b[0;34m\u001b[0m\u001b[0;34m\u001b[0m\u001b[0m\n\u001b[1;32m    674\u001b[0m                     \u001b[0mindex\u001b[0m\u001b[0;34m,\u001b[0m\u001b[0;34m\u001b[0m\u001b[0;34m\u001b[0m\u001b[0m\n",
            "\u001b[0;32m/usr/local/lib/python3.8/dist-packages/pandas/core/internals/construction.py\u001b[0m in \u001b[0;36mndarray_to_mgr\u001b[0;34m(values, index, columns, dtype, copy, typ)\u001b[0m\n\u001b[1;32m    302\u001b[0m         \u001b[0;31m# by definition an array here\u001b[0m\u001b[0;34m\u001b[0m\u001b[0;34m\u001b[0m\u001b[0;34m\u001b[0m\u001b[0m\n\u001b[1;32m    303\u001b[0m         \u001b[0;31m# the dtypes will be coerced to a single dtype\u001b[0m\u001b[0;34m\u001b[0m\u001b[0;34m\u001b[0m\u001b[0;34m\u001b[0m\u001b[0m\n\u001b[0;32m--> 304\u001b[0;31m         \u001b[0mvalues\u001b[0m \u001b[0;34m=\u001b[0m \u001b[0m_prep_ndarray\u001b[0m\u001b[0;34m(\u001b[0m\u001b[0mvalues\u001b[0m\u001b[0;34m,\u001b[0m \u001b[0mcopy\u001b[0m\u001b[0;34m=\u001b[0m\u001b[0mcopy\u001b[0m\u001b[0;34m)\u001b[0m\u001b[0;34m\u001b[0m\u001b[0;34m\u001b[0m\u001b[0m\n\u001b[0m\u001b[1;32m    305\u001b[0m \u001b[0;34m\u001b[0m\u001b[0m\n\u001b[1;32m    306\u001b[0m     \u001b[0;32mif\u001b[0m \u001b[0mdtype\u001b[0m \u001b[0;32mis\u001b[0m \u001b[0;32mnot\u001b[0m \u001b[0;32mNone\u001b[0m \u001b[0;32mand\u001b[0m \u001b[0;32mnot\u001b[0m \u001b[0mis_dtype_equal\u001b[0m\u001b[0;34m(\u001b[0m\u001b[0mvalues\u001b[0m\u001b[0;34m.\u001b[0m\u001b[0mdtype\u001b[0m\u001b[0;34m,\u001b[0m \u001b[0mdtype\u001b[0m\u001b[0;34m)\u001b[0m\u001b[0;34m:\u001b[0m\u001b[0;34m\u001b[0m\u001b[0;34m\u001b[0m\u001b[0m\n",
            "\u001b[0;32m/usr/local/lib/python3.8/dist-packages/pandas/core/internals/construction.py\u001b[0m in \u001b[0;36m_prep_ndarray\u001b[0;34m(values, copy)\u001b[0m\n\u001b[1;32m    553\u001b[0m         \u001b[0mvalues\u001b[0m \u001b[0;34m=\u001b[0m \u001b[0mvalues\u001b[0m\u001b[0;34m.\u001b[0m\u001b[0mreshape\u001b[0m\u001b[0;34m(\u001b[0m\u001b[0;34m(\u001b[0m\u001b[0mvalues\u001b[0m\u001b[0;34m.\u001b[0m\u001b[0mshape\u001b[0m\u001b[0;34m[\u001b[0m\u001b[0;36m0\u001b[0m\u001b[0;34m]\u001b[0m\u001b[0;34m,\u001b[0m \u001b[0;36m1\u001b[0m\u001b[0;34m)\u001b[0m\u001b[0;34m)\u001b[0m\u001b[0;34m\u001b[0m\u001b[0;34m\u001b[0m\u001b[0m\n\u001b[1;32m    554\u001b[0m     \u001b[0;32melif\u001b[0m \u001b[0mvalues\u001b[0m\u001b[0;34m.\u001b[0m\u001b[0mndim\u001b[0m \u001b[0;34m!=\u001b[0m \u001b[0;36m2\u001b[0m\u001b[0;34m:\u001b[0m\u001b[0;34m\u001b[0m\u001b[0;34m\u001b[0m\u001b[0m\n\u001b[0;32m--> 555\u001b[0;31m         \u001b[0;32mraise\u001b[0m \u001b[0mValueError\u001b[0m\u001b[0;34m(\u001b[0m\u001b[0;34mf\"Must pass 2-d input. shape={values.shape}\"\u001b[0m\u001b[0;34m)\u001b[0m\u001b[0;34m\u001b[0m\u001b[0;34m\u001b[0m\u001b[0m\n\u001b[0m\u001b[1;32m    556\u001b[0m \u001b[0;34m\u001b[0m\u001b[0m\n\u001b[1;32m    557\u001b[0m     \u001b[0;32mreturn\u001b[0m \u001b[0mvalues\u001b[0m\u001b[0;34m\u001b[0m\u001b[0;34m\u001b[0m\u001b[0m\n",
            "\u001b[0;31mValueError\u001b[0m: Must pass 2-d input. shape=(1973, 1250, 8)"
          ]
        }
      ]
    }
  ],
  "metadata": {
    "colab": {
      "provenance": [],
      "include_colab_link": true
    },
    "kernelspec": {
      "display_name": "Python 3",
      "name": "python3"
    },
    "language_info": {
      "name": "python"
    }
  },
  "nbformat": 4,
  "nbformat_minor": 0
}